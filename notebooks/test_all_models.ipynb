{
 "cells": [
  {
   "cell_type": "markdown",
   "id": "03e47961",
   "metadata": {},
   "source": [
    "LINEAR REGRESSION"
   ]
  },
  {
   "cell_type": "code",
   "execution_count": 1,
   "id": "64070ba3",
   "metadata": {},
   "outputs": [],
   "source": [
    "import sys\n",
    "sys.path.append(\"..\")\n"
   ]
  },
  {
   "cell_type": "code",
   "execution_count": 6,
   "id": "04072766",
   "metadata": {},
   "outputs": [
    {
     "name": "stdout",
     "output_type": "stream",
     "text": [
      "Predictions: [ 5.23483186  9.28494589 13.33505993 17.38517396 21.435288  ]\n",
      "R² Score: 0.9132172413202497\n"
     ]
    }
   ],
   "source": [
    "import numpy as np\n",
    "from ml_models.linear_regression import LinearRegression\n",
    "\n",
    "# Dummy data: y = 4x + 3 + noise\n",
    "x = np.array([[1], [2], [3], [4], [5]])\n",
    "y = np.array([7, 11, 15, 19, 23])\n",
    "\n",
    "model = LinearRegression(lr=0.0001, epochs=2000)\n",
    "model.fit(x, y)\n",
    "\n",
    "preds = model.predict(x)\n",
    "print(\"Predictions:\", preds)\n",
    "print(\"R² Score:\", model.score(x, y))"
   ]
  },
  {
   "cell_type": "markdown",
   "id": "edf4bc23",
   "metadata": {},
   "source": [
    "LOGISTIC REGRESSION"
   ]
  },
  {
   "cell_type": "code",
   "execution_count": null,
   "id": "00032c8e",
   "metadata": {},
   "outputs": [],
   "source": [
    "import numpy as np\n",
    "from ml_models.logistic_regression import LogisticRegression"
   ]
  }
 ],
 "metadata": {
  "kernelspec": {
   "display_name": "Python 3",
   "language": "python",
   "name": "python3"
  },
  "language_info": {
   "codemirror_mode": {
    "name": "ipython",
    "version": 3
   },
   "file_extension": ".py",
   "mimetype": "text/x-python",
   "name": "python",
   "nbconvert_exporter": "python",
   "pygments_lexer": "ipython3",
   "version": "3.12.10"
  }
 },
 "nbformat": 4,
 "nbformat_minor": 5
}
